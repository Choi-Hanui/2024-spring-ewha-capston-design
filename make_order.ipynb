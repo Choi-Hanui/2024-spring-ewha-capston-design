{
  "nbformat": 4,
  "nbformat_minor": 0,
  "metadata": {
    "colab": {
      "provenance": [],
      "include_colab_link": true
    },
    "kernelspec": {
      "name": "python3",
      "display_name": "Python 3"
    },
    "language_info": {
      "name": "python"
    }
  },
  "cells": [
    {
      "cell_type": "markdown",
      "metadata": {
        "id": "view-in-github",
        "colab_type": "text"
      },
      "source": [
        "<a href=\"https://colab.research.google.com/github/ekyuho/2024-spring-ewha-capston-design/blob/main/make_order.ipynb\" target=\"_parent\"><img src=\"https://colab.research.google.com/assets/colab-badge.svg\" alt=\"Open In Colab\"/></a>"
      ]
    },
    {
      "cell_type": "code",
      "execution_count": null,
      "metadata": {
        "id": "2pKHj1nuJajQ"
      },
      "outputs": [],
      "source": [
        "import random\n",
        "n=[7,14,21,29]\n",
        "when=['4월7일 1교시','4월7일 2교시', '4월11일 1교시', '4월14일 1교시', '4월14일 2교시']\n",
        "teams=list(range(1,38))\n",
        "print(teams)\n",
        "random.shuffle(teams)\n",
        "print(teams,'\\n')\n",
        "i=0\n",
        "k=0\n",
        "print(when[k], end=': ')\n",
        "k+=1\n",
        "for i in range(len(teams)):\n",
        "  print(teams[i], end=' ')\n",
        "  if i in n:\n",
        "    print()\n",
        "    print(when[k], end=': ')\n",
        "    k+=1"
      ]
    },
    {
      "cell_type": "code",
      "source": [],
      "metadata": {
        "id": "c24vtIoGJ6DA"
      },
      "execution_count": null,
      "outputs": []
    }
  ]
}