{
  "nbformat": 4,
  "nbformat_minor": 0,
  "metadata": {
    "colab": {
      "provenance": [],
      "include_colab_link": true
    },
    "kernelspec": {
      "name": "python3",
      "display_name": "Python 3"
    },
    "language_info": {
      "name": "python"
    }
  },
  "cells": [
    {
      "cell_type": "markdown",
      "metadata": {
        "id": "view-in-github",
        "colab_type": "text"
      },
      "source": [
        "<a href=\"https://colab.research.google.com/github/ekyuho/2024-spring-ewha-capston-design/blob/main/make_order.ipynb\" target=\"_parent\"><img src=\"https://colab.research.google.com/assets/colab-badge.svg\" alt=\"Open In Colab\"/></a>"
      ]
    },
    {
      "cell_type": "code",
      "execution_count": 1,
      "metadata": {
        "id": "2pKHj1nuJajQ",
        "outputId": "c5df2486-82a0-493c-bb6c-2c6823101251",
        "colab": {
          "base_uri": "https://localhost:8080/"
        }
      },
      "outputs": [
        {
          "output_type": "stream",
          "name": "stdout",
          "text": [
            "[1, 2, 3, 4, 5, 6, 7, 8, 9, 10, 11, 12, 13, 15, 16, 17, 18, 19, 20, 21, 23]\n",
            "[13, 5, 17, 2, 9, 18, 4, 3, 8, 15, 20, 19, 6, 11, 12, 1, 7, 23, 10, 16, 21]\n",
            "total 21팀\n",
            "4월16일(화) 1교시 13 5 17 2 9 18 4\n",
            "4월19일(금) 1교시 3 8 15 20 19 6 11\n",
            "4월19일(금) 2교시 12 1 7 23 10 16 21\n"
          ]
        }
      ],
      "source": [
        "import random\n",
        "\n",
        "day=['4월16일(화) 1교시','4월19일(금) 1교시', '4월19일(금) 2교시']\n",
        "teams=[]\n",
        "missing=[14, 22]\n",
        "for i in range(1,24):\n",
        "  if i not in missing: teams.append(i)\n",
        "print(teams)\n",
        "random.shuffle(teams)\n",
        "print(teams)\n",
        "print(f'total {len(teams)}팀')\n",
        "\n",
        "# 75분 한교시에 7팀씩 발표하는 것으로 가정\n",
        "count=1\n",
        "for i in range(3):\n",
        "  print(day[i], end='')\n",
        "  for j in range(7):\n",
        "    if count > len(teams): break\n",
        "    print(f' {teams[i*7+j]}', end='')\n",
        "    count+=1\n",
        "  print()"
      ]
    },
    {
      "cell_type": "code",
      "source": [],
      "metadata": {
        "id": "c24vtIoGJ6DA"
      },
      "execution_count": null,
      "outputs": []
    }
  ]
}